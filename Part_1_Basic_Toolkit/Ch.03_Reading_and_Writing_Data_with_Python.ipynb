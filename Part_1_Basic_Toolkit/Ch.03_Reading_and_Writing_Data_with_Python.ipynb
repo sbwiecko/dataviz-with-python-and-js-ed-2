{
 "cells": [
  {
   "cell_type": "code",
   "execution_count": 1,
   "id": "ef3ed1b5",
   "metadata": {},
   "outputs": [],
   "source": [
    "nobel_winners = [\n",
    "{'category': 'Physics',\n",
    "'name': 'Albert Einstein',\n",
    "'nationality': 'Swiss',\n",
    "'gender': 'male',\n",
    "'year': 1921},\n",
    "{'category': 'Physics',\n",
    "'name': 'Paul Dirac',\n",
    "'nationality': 'British',\n",
    "'gender': 'male',\n",
    "'year': 1933},\n",
    "{'category': 'Chemistry',\n",
    "'name': 'Marie Curie',\n",
    "'nationality': 'Polish',\n",
    "'gender': 'female',\n",
    "'year': 1911}\n",
    "]"
   ]
  },
  {
   "cell_type": "markdown",
   "id": "f6cb676e",
   "metadata": {},
   "source": [
    "## Working with System Files"
   ]
  },
  {
   "cell_type": "code",
   "execution_count": 2,
   "id": "92b2f764",
   "metadata": {},
   "outputs": [],
   "source": [
    "# open a local file in write (w) mode\n",
    "f = open('data/nobel_winners.csv', 'w')"
   ]
  },
  {
   "cell_type": "code",
   "execution_count": 3,
   "id": "600a4cc9",
   "metadata": {},
   "outputs": [],
   "source": [
    "# write the nobel_winners array of dicts to the file\n",
    "cols = nobel_winners[0].keys()\n",
    "cols = sorted(cols)\n",
    "with open('data/nobel_winners.csv', 'w') as f:\n",
    "    f.write(','.join(cols) + '\\n')\n",
    "    for o in nobel_winners:\n",
    "        row = [str(o[col]) for col in cols]\n",
    "        f.write(','.join(row) + '\\n')"
   ]
  },
  {
   "cell_type": "code",
   "execution_count": 4,
   "id": "9129f296",
   "metadata": {},
   "outputs": [
    {
     "name": "stdout",
     "output_type": "stream",
     "text": [
      "category,gender,name,nationality,year\n",
      "\n",
      "Physics,male,Albert Einstein,Swiss,1921\n",
      "\n",
      "Physics,male,Paul Dirac,British,1933\n",
      "\n",
      "Chemistry,female,Marie Curie,Polish,1911\n",
      "\n"
     ]
    }
   ],
   "source": [
    "with open('data/nobel_winners.csv') as f:\n",
    "    for line in f.readlines():\n",
    "        print(line)"
   ]
  },
  {
   "cell_type": "markdown",
   "id": "1c123788",
   "metadata": {},
   "source": [
    "## CSV, TSV, and Row-Column Data Formats"
   ]
  },
  {
   "cell_type": "code",
   "execution_count": 5,
   "id": "4bedeed6",
   "metadata": {},
   "outputs": [],
   "source": [
    "import csv\n",
    "with open('data/nobel_winners.csv', 'w') as f:\n",
    "    fieldnames = nobel_winners[0].keys()\n",
    "    fieldnames = sorted(fieldnames)\n",
    "    writer = csv.DictWriter(f, fieldnames=fieldnames)\n",
    "    writer.writeheader()\n",
    "    for w in nobel_winners:\n",
    "        writer.writerow(w)"
   ]
  },
  {
   "cell_type": "code",
   "execution_count": 6,
   "id": "2c102379",
   "metadata": {},
   "outputs": [
    {
     "name": "stdout",
     "output_type": "stream",
     "text": [
      "['category', 'gender', 'name', 'nationality', 'year']\n",
      "[]\n",
      "['Physics', 'male', 'Albert Einstein', 'Swiss', '1921']\n",
      "[]\n",
      "['Physics', 'male', 'Paul Dirac', 'British', '1933']\n",
      "[]\n",
      "['Chemistry', 'female', 'Marie Curie', 'Polish', '1911']\n",
      "[]\n"
     ]
    }
   ],
   "source": [
    "with open('data/nobel_winners.csv') as f:\n",
    "    reader = csv.reader(f)\n",
    "    for row in reader:\n",
    "        print(row)"
   ]
  },
  {
   "cell_type": "code",
   "execution_count": 7,
   "id": "b820a72b",
   "metadata": {},
   "outputs": [
    {
     "data": {
      "text/plain": [
       "[{'category': 'Physics',\n",
       "  'gender': 'male',\n",
       "  'name': 'Albert Einstein',\n",
       "  'nationality': 'Swiss',\n",
       "  'year': '1921'},\n",
       " {'category': 'Physics',\n",
       "  'gender': 'male',\n",
       "  'name': 'Paul Dirac',\n",
       "  'nationality': 'British',\n",
       "  'year': '1933'},\n",
       " {'category': 'Chemistry',\n",
       "  'gender': 'female',\n",
       "  'name': 'Marie Curie',\n",
       "  'nationality': 'Polish',\n",
       "  'year': '1911'}]"
      ]
     },
     "execution_count": 7,
     "metadata": {},
     "output_type": "execute_result"
    }
   ],
   "source": [
    "# Using the DictReader to work with arrays of dicts..\n",
    "import csv\n",
    "\n",
    "with open('data/nobel_winners.csv') as f:\n",
    "    reader = csv.DictReader(f)\n",
    "    nobel_winners = list(reader)\n",
    "    \n",
    "nobel_winners"
   ]
  },
  {
   "cell_type": "code",
   "execution_count": 8,
   "id": "481cba09",
   "metadata": {},
   "outputs": [
    {
     "data": {
      "text/plain": [
       "[{'category': 'Physics',\n",
       "  'gender': 'male',\n",
       "  'name': 'Albert Einstein',\n",
       "  'nationality': 'Swiss',\n",
       "  'year': 1921},\n",
       " {'category': 'Physics',\n",
       "  'gender': 'male',\n",
       "  'name': 'Paul Dirac',\n",
       "  'nationality': 'British',\n",
       "  'year': 1933},\n",
       " {'category': 'Chemistry',\n",
       "  'gender': 'female',\n",
       "  'name': 'Marie Curie',\n",
       "  'nationality': 'Polish',\n",
       "  'year': 1911}]"
      ]
     },
     "execution_count": 8,
     "metadata": {},
     "output_type": "execute_result"
    }
   ],
   "source": [
    "for w in nobel_winners:\n",
    "    w['year'] = int(w['year'])\n",
    "    \n",
    "nobel_winners"
   ]
  },
  {
   "cell_type": "code",
   "execution_count": 9,
   "id": "456b02e2",
   "metadata": {},
   "outputs": [],
   "source": [
    "from datetime import datetime"
   ]
  },
  {
   "cell_type": "code",
   "execution_count": 10,
   "id": "c7a91223",
   "metadata": {},
   "outputs": [
    {
     "data": {
      "text/plain": [
       "datetime.datetime(1947, 1, 1, 0, 0)"
      ]
     },
     "execution_count": 10,
     "metadata": {},
     "output_type": "execute_result"
    }
   ],
   "source": [
    "# We can easily create a Python DateTime from the year column\n",
    "dt = datetime.strptime('1947', '%Y')\n",
    "dt"
   ]
  },
  {
   "cell_type": "markdown",
   "id": "97dce827",
   "metadata": {},
   "source": [
    "## JSON"
   ]
  },
  {
   "cell_type": "code",
   "execution_count": 11,
   "id": "073c51a1",
   "metadata": {},
   "outputs": [
    {
     "data": {
      "text/plain": [
       "'[{\"category\": \"Physics\", \"gender\": \"male\", \"name\": \"Albert Einstein\", \"nationality\": \"Swiss\", \"year\": 1921}, {\"category\": \"Physics\", \"gender\": \"male\", \"name\": \"Paul Dirac\", \"nationality\": \"British\", \"year\": 1933}, {\"category\": \"Chemistry\", \"gender\": \"female\", \"name\": \"Marie Curie\", \"nationality\": \"Polish\", \"year\": 1911}]'"
      ]
     },
     "execution_count": 11,
     "metadata": {},
     "output_type": "execute_result"
    }
   ],
   "source": [
    "import json\n",
    "\n",
    "with open('data/nobel_winners.json', 'w') as f:\n",
    "    json.dump(nobel_winners, f)\n",
    "    \n",
    "open('data/nobel_winners.json').read()"
   ]
  },
  {
   "cell_type": "code",
   "execution_count": 12,
   "id": "333a4750",
   "metadata": {},
   "outputs": [
    {
     "data": {
      "text/plain": [
       "[{'category': 'Physics',\n",
       "  'gender': 'male',\n",
       "  'name': 'Albert Einstein',\n",
       "  'nationality': 'Swiss',\n",
       "  'year': 1921},\n",
       " {'category': 'Physics',\n",
       "  'gender': 'male',\n",
       "  'name': 'Paul Dirac',\n",
       "  'nationality': 'British',\n",
       "  'year': 1933},\n",
       " {'category': 'Chemistry',\n",
       "  'gender': 'female',\n",
       "  'name': 'Marie Curie',\n",
       "  'nationality': 'Polish',\n",
       "  'year': 1911}]"
      ]
     },
     "execution_count": 12,
     "metadata": {},
     "output_type": "execute_result"
    }
   ],
   "source": [
    "import json\n",
    "\n",
    "with open('data/nobel_winners.json') as f:\n",
    "    nobel_winners = json.load(f)\n",
    "    \n",
    "nobel_winners"
   ]
  },
  {
   "cell_type": "markdown",
   "id": "331d8e90",
   "metadata": {},
   "source": [
    "## Dealing with Dates and Times"
   ]
  },
  {
   "cell_type": "code",
   "execution_count": 13,
   "id": "051c7721",
   "metadata": {},
   "outputs": [],
   "source": [
    "## This will produce a TypeError if run\n",
    "#from datetime import datetime\n",
    "\n",
    "#json.dumps(datetime.now())\n",
    "\n",
    "## Out: \n",
    "# ---------------------------------------------------------------------------\n",
    "# TypeError                                 Traceback (most recent call last)\n",
    "# [...]\n",
    "# --> 179         raise TypeError(f'Object of type {o.__class__.__name__} '\n",
    "#     180                         f'is not JSON serializable')\n",
    "#     181 \n",
    "\n",
    "# TypeError: Object of type datetime is not JSON serializable"
   ]
  },
  {
   "cell_type": "code",
   "execution_count": 13,
   "id": "188ec25b",
   "metadata": {},
   "outputs": [],
   "source": [
    "import datetime\n",
    "from dateutil import parser\n",
    "import json\n",
    "\n",
    "\n",
    "class JSONDateTimeEncoder(json.JSONEncoder):\n",
    "    def default(self, obj):\n",
    "        if isinstance(obj, (datetime.date, datetime.datetime)):\n",
    "            return obj.isoformat()\n",
    "        else:\n",
    "            return json.JSONEncoder.default(self, obj)\n",
    "        \n",
    "def dumps(obj):\n",
    "    return json.dumps(obj, cls=JSONDateTimeEncoder)"
   ]
  },
  {
   "cell_type": "code",
   "execution_count": 14,
   "id": "ce1bc334",
   "metadata": {},
   "outputs": [
    {
     "data": {
      "text/plain": [
       "'{\"time\": \"2023-08-28T17:00:46.836189\"}'"
      ]
     },
     "execution_count": 14,
     "metadata": {},
     "output_type": "execute_result"
    }
   ],
   "source": [
    "now_str = dumps({'time': datetime.datetime.now()})\n",
    "now_str"
   ]
  },
  {
   "cell_type": "code",
   "execution_count": 15,
   "id": "98fa8d19",
   "metadata": {},
   "outputs": [
    {
     "data": {
      "text/plain": [
       "datetime.datetime(2021, 1, 1, 12, 32, 11)"
      ]
     },
     "execution_count": 15,
     "metadata": {},
     "output_type": "execute_result"
    }
   ],
   "source": [
    "from datetime import datetime\n",
    "\n",
    "time_str = '2021/01/01 12:32:11'\n",
    "dt = datetime.strptime(time_str, '%Y/%m/%d %H:%M:%S')\n",
    "dt"
   ]
  },
  {
   "cell_type": "code",
   "execution_count": 17,
   "id": "892d069c",
   "metadata": {
    "scrolled": true
   },
   "outputs": [],
   "source": [
    "## This will throw an error if run\n",
    "\n",
    "# dt = datetime.strptime('1/2/2021 12:32:11', '%Y/%m/%d %H:%M:%S')\n",
    "\n",
    "# ---------------------------------------------------------------------------\n",
    "# ValueError                                Traceback (most recent call last)\n",
    "# /tmp/ipykernel_12021/1902707829.py in <module>\n",
    "# ----> 1 dt = datetime.strptime('1/2/2021 12:32:11', '%Y/%m/%d %H:%M:%S')\n",
    "\n",
    "# /usr/lib/python3.8/_strptime.py in _strptime_datetime(cls, data_string, format)\n",
    "#     566     \"\"\"Return a class cls instance based on the input string and the\n",
    "#     567     format string.\"\"\"\n",
    "# --> 568     tt, fraction, gmtoff_fraction = _strptime(data_string, format)\n",
    "#     569     tzname, gmtoff = tt[-2:]\n",
    "#     570     args = tt[:6] + (fraction,)\n",
    "\n",
    "# /usr/lib/python3.8/_strptime.py in _strptime(data_string, format)\n",
    "#     347     found = format_regex.match(data_string)\n",
    "#     348     if not found:\n",
    "# --> 349         raise ValueError(\"time data %r does not match format %r\" %\n",
    "#     350                          (data_string, format))\n",
    "#     351     if len(data_string) != found.end():\n",
    "\n",
    "# ValueError: time data '1/2/2021 12:32:11' does not match format '%Y/%m/%d %H:%M:%S'"
   ]
  },
  {
   "cell_type": "code",
   "execution_count": 16,
   "id": "e230ab19",
   "metadata": {},
   "outputs": [
    {
     "name": "stdout",
     "output_type": "stream",
     "text": [
      "Oops! - invalid date for {'id': 2, 'date': '2021/23/12 09:22:30'}\n"
     ]
    }
   ],
   "source": [
    "data = [\n",
    "    {'id': 0, 'date': '2020/02/23 12:59:05'},\n",
    "    {'id': 1, 'date': '2021/11/02 02:32:00'},\n",
    "    {'id': 2, 'date': '2021/23/12 09:22:30'},\n",
    "]\n",
    "\n",
    "for d in data:\n",
    "    try:\n",
    "        d['date'] = datetime.strptime(d['date'],\\\n",
    "        '%Y/%m/%d %H:%M:%S')\n",
    "    except ValueError:\n",
    "        print('Oops! - invalid date for ' + repr(d))"
   ]
  },
  {
   "cell_type": "markdown",
   "id": "3b7f63d4",
   "metadata": {},
   "source": [
    "## SQL"
   ]
  },
  {
   "cell_type": "markdown",
   "id": "24de42af",
   "metadata": {},
   "source": [
    "### Creating the Database Engine"
   ]
  },
  {
   "cell_type": "code",
   "execution_count": 17,
   "id": "b4359e0e",
   "metadata": {},
   "outputs": [],
   "source": [
    "from sqlalchemy import create_engine\n",
    "\n",
    "engine = create_engine('sqlite:///data/nobel_winners.db', echo=True)"
   ]
  },
  {
   "cell_type": "code",
   "execution_count": 18,
   "id": "b229fad6",
   "metadata": {},
   "outputs": [],
   "source": [
    "from sqlalchemy.ext.declarative import declarative_base\n",
    "\n",
    "Base = declarative_base()"
   ]
  },
  {
   "cell_type": "code",
   "execution_count": 19,
   "id": "5a5eaf72",
   "metadata": {},
   "outputs": [],
   "source": [
    "from sqlalchemy import Column, Integer, String, Enum\n",
    "\n",
    "class Winner(Base):\n",
    "    __tablename__ = 'winners'\n",
    "    id = Column(Integer, primary_key=True)\n",
    "    category = Column(String)\n",
    "    name = Column(String)\n",
    "    nationality = Column(String)\n",
    "    year = Column(Integer)\n",
    "    gender = Column(Enum('male', 'female'))\n",
    "    def __repr__(self):\n",
    "        return \"<Winner(name='%s', category='%s', year='%s')>\"\\\n",
    "%(self.name, self.category, self.year)"
   ]
  },
  {
   "cell_type": "code",
   "execution_count": 20,
   "id": "146edf70",
   "metadata": {},
   "outputs": [
    {
     "name": "stdout",
     "output_type": "stream",
     "text": [
      "2023-08-28 17:01:21,497 INFO sqlalchemy.engine.Engine BEGIN (implicit)\n",
      "2023-08-28 17:01:21,497 INFO sqlalchemy.engine.Engine PRAGMA main.table_info(\"winners\")\n",
      "2023-08-28 17:01:21,498 INFO sqlalchemy.engine.Engine [raw sql] ()\n",
      "2023-08-28 17:01:21,501 INFO sqlalchemy.engine.Engine COMMIT\n"
     ]
    }
   ],
   "source": [
    "Base.metadata.create_all(engine)"
   ]
  },
  {
   "cell_type": "code",
   "execution_count": 22,
   "id": "7d8eacb2",
   "metadata": {},
   "outputs": [],
   "source": [
    "from sqlalchemy.ext.declarative import declarative_base\n",
    "from sqlalchemy.orm import sessionmaker\n",
    "\n",
    "def make_winners_database():\n",
    "\n",
    "    from sqlalchemy import create_engine\n",
    "\n",
    "    engine = create_engine('sqlite:///data/nobel_winners.db', echo=True)\n",
    "    \n",
    "    Base = declarative_base()\n",
    "\n",
    "    from sqlalchemy import Column, Integer, String, Enum\n",
    "\n",
    "    class Winner(Base):\n",
    "        __tablename__ = 'winners'\n",
    "        id = Column(Integer, primary_key=True)\n",
    "        category = Column(String)\n",
    "        name = Column(String)\n",
    "        nationality = Column(String)\n",
    "        year = Column(Integer)\n",
    "        gender = Column(Enum('male', 'female'))\n",
    "        def __repr__(self):\n",
    "            return \"<Winner(name='%s', category='%s', year='%s')>\"\\\n",
    "    %(self.name, self.category, self.year)\n",
    "    \n",
    "    Base.metadata.create_all(engine)\n",
    "    \n",
    "    Session = sessionmaker(bind=engine)\n",
    "    session = Session()\n",
    "    # delete any existing winners:\n",
    "    session.query(Winner).delete()\n",
    "    winner_rows = [Winner(**w) for w in nobel_winners]\n",
    "    session.add_all(winner_rows)\n",
    "    session.commit()    "
   ]
  },
  {
   "cell_type": "code",
   "execution_count": 23,
   "id": "9ab2a655",
   "metadata": {},
   "outputs": [
    {
     "name": "stdout",
     "output_type": "stream",
     "text": [
      "2023-08-28 17:01:35,014 INFO sqlalchemy.engine.Engine BEGIN (implicit)\n",
      "2023-08-28 17:01:35,015 INFO sqlalchemy.engine.Engine PRAGMA main.table_info(\"winners\")\n",
      "2023-08-28 17:01:35,016 INFO sqlalchemy.engine.Engine [raw sql] ()\n",
      "2023-08-28 17:01:35,019 INFO sqlalchemy.engine.Engine COMMIT\n",
      "2023-08-28 17:01:35,027 INFO sqlalchemy.engine.Engine BEGIN (implicit)\n",
      "2023-08-28 17:01:35,029 INFO sqlalchemy.engine.Engine DELETE FROM winners\n",
      "2023-08-28 17:01:35,030 INFO sqlalchemy.engine.Engine [generated in 0.00092s] ()\n",
      "2023-08-28 17:01:35,034 INFO sqlalchemy.engine.Engine INSERT INTO winners (category, name, nationality, year, gender) VALUES (?, ?, ?, ?, ?)\n",
      "2023-08-28 17:01:35,035 INFO sqlalchemy.engine.Engine [generated in 0.00087s] ('Physics', 'Albert Einstein', 'Swiss', 1921, 'male')\n",
      "2023-08-28 17:01:35,036 INFO sqlalchemy.engine.Engine INSERT INTO winners (category, name, nationality, year, gender) VALUES (?, ?, ?, ?, ?)\n",
      "2023-08-28 17:01:35,036 INFO sqlalchemy.engine.Engine [cached since 0.002239s ago] ('Physics', 'Paul Dirac', 'British', 1933, 'male')\n",
      "2023-08-28 17:01:35,037 INFO sqlalchemy.engine.Engine INSERT INTO winners (category, name, nationality, year, gender) VALUES (?, ?, ?, ?, ?)\n",
      "2023-08-28 17:01:35,037 INFO sqlalchemy.engine.Engine [cached since 0.003449s ago] ('Chemistry', 'Marie Curie', 'Polish', 1911, 'female')\n",
      "2023-08-28 17:01:35,039 INFO sqlalchemy.engine.Engine COMMIT\n"
     ]
    }
   ],
   "source": [
    "make_winners_database()"
   ]
  },
  {
   "cell_type": "markdown",
   "id": "1f265ed9",
   "metadata": {},
   "source": [
    "## Adding Instances with a Session"
   ]
  },
  {
   "cell_type": "code",
   "execution_count": 24,
   "id": "74de1b1f",
   "metadata": {},
   "outputs": [
    {
     "name": "stdout",
     "output_type": "stream",
     "text": [
      "2023-08-28 17:01:48,071 INFO sqlalchemy.engine.Engine BEGIN (implicit)\n",
      "2023-08-28 17:01:48,072 INFO sqlalchemy.engine.Engine DELETE FROM winners\n",
      "2023-08-28 17:01:48,073 INFO sqlalchemy.engine.Engine [generated in 0.00067s] ()\n"
     ]
    },
    {
     "data": {
      "text/plain": [
       "3"
      ]
     },
     "execution_count": 24,
     "metadata": {},
     "output_type": "execute_result"
    }
   ],
   "source": [
    "from sqlalchemy.orm import sessionmaker\n",
    "\n",
    "Session = sessionmaker(bind=engine)\n",
    "session = Session()\n",
    "\n",
    "# delete any existing winners fromt the table\n",
    "session.query(Winner).delete()"
   ]
  },
  {
   "cell_type": "code",
   "execution_count": 25,
   "id": "06eaca9d",
   "metadata": {},
   "outputs": [
    {
     "data": {
      "text/plain": [
       "IdentitySet([<Winner(name='Albert Einstein', category='Physics', year='1921')>])"
      ]
     },
     "execution_count": 25,
     "metadata": {},
     "output_type": "execute_result"
    }
   ],
   "source": [
    "albert = Winner(**nobel_winners[0])\n",
    "session.add(albert)\n",
    "session.new"
   ]
  },
  {
   "cell_type": "code",
   "execution_count": 26,
   "id": "3b2eb86f",
   "metadata": {},
   "outputs": [
    {
     "data": {
      "text/plain": [
       "IdentitySet([])"
      ]
     },
     "execution_count": 26,
     "metadata": {},
     "output_type": "execute_result"
    }
   ],
   "source": [
    "session.expunge(albert)\n",
    "session.new"
   ]
  },
  {
   "cell_type": "code",
   "execution_count": 27,
   "id": "118bce8d",
   "metadata": {},
   "outputs": [
    {
     "name": "stdout",
     "output_type": "stream",
     "text": [
      "2023-08-28 17:01:56,109 INFO sqlalchemy.engine.Engine INSERT INTO winners (category, name, nationality, year, gender) VALUES (?, ?, ?, ?, ?)\n",
      "2023-08-28 17:01:56,110 INFO sqlalchemy.engine.Engine [generated in 0.00090s] ('Physics', 'Albert Einstein', 'Swiss', 1921, 'male')\n",
      "2023-08-28 17:01:56,112 INFO sqlalchemy.engine.Engine INSERT INTO winners (category, name, nationality, year, gender) VALUES (?, ?, ?, ?, ?)\n",
      "2023-08-28 17:01:56,112 INFO sqlalchemy.engine.Engine [cached since 0.003184s ago] ('Physics', 'Paul Dirac', 'British', 1933, 'male')\n",
      "2023-08-28 17:01:56,113 INFO sqlalchemy.engine.Engine INSERT INTO winners (category, name, nationality, year, gender) VALUES (?, ?, ?, ?, ?)\n",
      "2023-08-28 17:01:56,114 INFO sqlalchemy.engine.Engine [cached since 0.004738s ago] ('Chemistry', 'Marie Curie', 'Polish', 1911, 'female')\n",
      "2023-08-28 17:01:56,115 INFO sqlalchemy.engine.Engine COMMIT\n"
     ]
    }
   ],
   "source": [
    "winner_rows = [Winner(**w) for w in nobel_winners]\n",
    "session.add_all(winner_rows)\n",
    "session.commit()"
   ]
  },
  {
   "cell_type": "markdown",
   "id": "93b7bee0",
   "metadata": {},
   "source": [
    "## Querying the Database"
   ]
  },
  {
   "cell_type": "code",
   "execution_count": 28,
   "id": "fa95bb14",
   "metadata": {},
   "outputs": [
    {
     "name": "stdout",
     "output_type": "stream",
     "text": [
      "2023-08-28 17:01:59,898 INFO sqlalchemy.engine.Engine BEGIN (implicit)\n",
      "2023-08-28 17:01:59,903 INFO sqlalchemy.engine.Engine SELECT count(*) AS count_1 \n",
      "FROM (SELECT winners.id AS winners_id, winners.category AS winners_category, winners.name AS winners_name, winners.nationality AS winners_nationality, winners.year AS winners_year, winners.gender AS winners_gender \n",
      "FROM winners) AS anon_1\n",
      "2023-08-28 17:01:59,904 INFO sqlalchemy.engine.Engine [generated in 0.00078s] ()\n"
     ]
    },
    {
     "data": {
      "text/plain": [
       "3"
      ]
     },
     "execution_count": 28,
     "metadata": {},
     "output_type": "execute_result"
    }
   ],
   "source": [
    "session.query(Winner).count()"
   ]
  },
  {
   "cell_type": "code",
   "execution_count": 29,
   "id": "aadff781",
   "metadata": {},
   "outputs": [
    {
     "name": "stdout",
     "output_type": "stream",
     "text": [
      "2023-08-28 17:02:03,684 INFO sqlalchemy.engine.Engine SELECT winners.id AS winners_id, winners.category AS winners_category, winners.name AS winners_name, winners.nationality AS winners_nationality, winners.year AS winners_year, winners.gender AS winners_gender \n",
      "FROM winners \n",
      "WHERE winners.nationality = ?\n",
      "2023-08-28 17:02:03,685 INFO sqlalchemy.engine.Engine [generated in 0.00107s] ('Swiss',)\n"
     ]
    },
    {
     "data": {
      "text/plain": [
       "[<Winner(name='Albert Einstein', category='Physics', year='1921')>]"
      ]
     },
     "execution_count": 29,
     "metadata": {},
     "output_type": "execute_result"
    }
   ],
   "source": [
    "result = session.query(Winner).filter_by(nationality='Swiss')\n",
    "list(result)"
   ]
  },
  {
   "cell_type": "code",
   "execution_count": 31,
   "id": "0eaad818",
   "metadata": {},
   "outputs": [
    {
     "name": "stdout",
     "output_type": "stream",
     "text": [
      "2023-08-28 17:02:24,725 INFO sqlalchemy.engine.Engine SELECT winners.id AS winners_id, winners.category AS winners_category, winners.name AS winners_name, winners.nationality AS winners_nationality, winners.year AS winners_year, winners.gender AS winners_gender \n",
      "FROM winners \n",
      "WHERE winners.category = ? AND winners.nationality != ?\n",
      "2023-08-28 17:02:24,726 INFO sqlalchemy.engine.Engine [cached since 17.93s ago] ('Physics', 'Swiss')\n"
     ]
    },
    {
     "data": {
      "text/plain": [
       "[<Winner(name='Paul Dirac', category='Physics', year='1933')>]"
      ]
     },
     "execution_count": 31,
     "metadata": {},
     "output_type": "execute_result"
    }
   ],
   "source": [
    "result = session.query(Winner).filter(\n",
    "    Winner.category == 'Physics',\n",
    "    Winner.nationality != 'Swiss',\n",
    ")\n",
    "list(result)"
   ]
  },
  {
   "cell_type": "code",
   "execution_count": 32,
   "id": "1757c67c",
   "metadata": {},
   "outputs": [
    {
     "name": "stdout",
     "output_type": "stream",
     "text": [
      "2023-08-28 17:02:27,429 INFO sqlalchemy.engine.Engine SELECT winners.id AS winners_id, winners.category AS winners_category, winners.name AS winners_name, winners.nationality AS winners_nationality, winners.year AS winners_year, winners.gender AS winners_gender \n",
      "FROM winners \n",
      "WHERE winners.id = ?\n",
      "2023-08-28 17:02:27,430 INFO sqlalchemy.engine.Engine [generated in 0.00115s] (3,)\n"
     ]
    },
    {
     "data": {
      "text/plain": [
       "<Winner(name='Marie Curie', category='Chemistry', year='1911')>"
      ]
     },
     "execution_count": 32,
     "metadata": {},
     "output_type": "execute_result"
    }
   ],
   "source": [
    "session.query(Winner).get(3)"
   ]
  },
  {
   "cell_type": "code",
   "execution_count": 33,
   "id": "6b1d3f09",
   "metadata": {},
   "outputs": [
    {
     "name": "stdout",
     "output_type": "stream",
     "text": [
      "2023-08-28 17:02:31,067 INFO sqlalchemy.engine.Engine SELECT winners.id AS winners_id, winners.category AS winners_category, winners.name AS winners_name, winners.nationality AS winners_nationality, winners.year AS winners_year, winners.gender AS winners_gender \n",
      "FROM winners ORDER BY winners.year\n",
      "2023-08-28 17:02:31,069 INFO sqlalchemy.engine.Engine [generated in 0.00094s] ()\n"
     ]
    },
    {
     "data": {
      "text/plain": [
       "[<Winner(name='Marie Curie', category='Chemistry', year='1911')>,\n",
       " <Winner(name='Albert Einstein', category='Physics', year='1921')>,\n",
       " <Winner(name='Paul Dirac', category='Physics', year='1933')>]"
      ]
     },
     "execution_count": 33,
     "metadata": {},
     "output_type": "execute_result"
    }
   ],
   "source": [
    "res = session.query(Winner).order_by('year')\n",
    "list(res)"
   ]
  },
  {
   "cell_type": "code",
   "execution_count": 34,
   "id": "54d771fc",
   "metadata": {},
   "outputs": [],
   "source": [
    "def inst_to_dict(inst, delete_id=True):\n",
    "    dat = {}\n",
    "    for column in inst.__table__.columns:\n",
    "        dat[column.name] = getattr(inst, column.name)\n",
    "    if delete_id:\n",
    "        dat.pop('id')\n",
    "    return dat"
   ]
  },
  {
   "cell_type": "code",
   "execution_count": 35,
   "id": "c54445dc",
   "metadata": {},
   "outputs": [
    {
     "name": "stdout",
     "output_type": "stream",
     "text": [
      "2023-08-28 17:02:36,451 INFO sqlalchemy.engine.Engine SELECT winners.id AS winners_id, winners.category AS winners_category, winners.name AS winners_name, winners.nationality AS winners_nationality, winners.year AS winners_year, winners.gender AS winners_gender \n",
      "FROM winners\n",
      "2023-08-28 17:02:36,452 INFO sqlalchemy.engine.Engine [generated in 0.00107s] ()\n"
     ]
    },
    {
     "data": {
      "text/plain": [
       "[{'category': 'Physics',\n",
       "  'name': 'Albert Einstein',\n",
       "  'nationality': 'Swiss',\n",
       "  'year': 1921,\n",
       "  'gender': 'male'},\n",
       " {'category': 'Physics',\n",
       "  'name': 'Paul Dirac',\n",
       "  'nationality': 'British',\n",
       "  'year': 1933,\n",
       "  'gender': 'male'},\n",
       " {'category': 'Chemistry',\n",
       "  'name': 'Marie Curie',\n",
       "  'nationality': 'Polish',\n",
       "  'year': 1911,\n",
       "  'gender': 'female'}]"
      ]
     },
     "execution_count": 35,
     "metadata": {},
     "output_type": "execute_result"
    }
   ],
   "source": [
    "winner_rows = session.query(Winner)\n",
    "nobel_winners = [inst_to_dict(w) for w in winner_rows]\n",
    "nobel_winners"
   ]
  },
  {
   "cell_type": "code",
   "execution_count": 36,
   "id": "ecf355ad",
   "metadata": {},
   "outputs": [
    {
     "data": {
      "text/plain": [
       "IdentitySet([<Winner(name='Marie Curie', category='Chemistry', year='1911')>])"
      ]
     },
     "execution_count": 36,
     "metadata": {},
     "output_type": "execute_result"
    }
   ],
   "source": [
    "marie = session.query(Winner).get(3)\n",
    "marie.nationality = 'French'\n",
    "session.dirty"
   ]
  },
  {
   "cell_type": "code",
   "execution_count": 37,
   "id": "b8d2f563",
   "metadata": {},
   "outputs": [
    {
     "name": "stdout",
     "output_type": "stream",
     "text": [
      "2023-08-28 17:02:44,215 INFO sqlalchemy.engine.Engine UPDATE winners SET nationality=? WHERE winners.id = ?\n",
      "2023-08-28 17:02:44,216 INFO sqlalchemy.engine.Engine [generated in 0.00110s] ('French', 3)\n",
      "2023-08-28 17:02:44,217 INFO sqlalchemy.engine.Engine COMMIT\n"
     ]
    }
   ],
   "source": [
    "session.commit()"
   ]
  },
  {
   "cell_type": "code",
   "execution_count": 38,
   "id": "c1afee03",
   "metadata": {},
   "outputs": [
    {
     "data": {
      "text/plain": [
       "IdentitySet([])"
      ]
     },
     "execution_count": 38,
     "metadata": {},
     "output_type": "execute_result"
    }
   ],
   "source": [
    "session.dirty"
   ]
  },
  {
   "cell_type": "code",
   "execution_count": 39,
   "id": "12439078-e243-4e4d-8363-2a0ee097f7f0",
   "metadata": {},
   "outputs": [
    {
     "name": "stdout",
     "output_type": "stream",
     "text": [
      "2023-08-28 17:02:48,797 INFO sqlalchemy.engine.Engine BEGIN (implicit)\n",
      "2023-08-28 17:02:48,798 INFO sqlalchemy.engine.Engine SELECT winners.id AS winners_id, winners.category AS winners_category, winners.name AS winners_name, winners.nationality AS winners_nationality, winners.year AS winners_year, winners.gender AS winners_gender \n",
      "FROM winners \n",
      "WHERE winners.id = ?\n",
      "2023-08-28 17:02:48,798 INFO sqlalchemy.engine.Engine [cached since 21.37s ago] (3,)\n"
     ]
    },
    {
     "data": {
      "text/plain": [
       "'French'"
      ]
     },
     "execution_count": 39,
     "metadata": {},
     "output_type": "execute_result"
    }
   ],
   "source": [
    "session.query(Winner).get(3).nationality"
   ]
  },
  {
   "cell_type": "code",
   "execution_count": 40,
   "id": "27df0766",
   "metadata": {},
   "outputs": [
    {
     "name": "stdout",
     "output_type": "stream",
     "text": [
      "2023-08-28 17:02:55,052 INFO sqlalchemy.engine.Engine DELETE FROM winners WHERE winners.name = ?\n",
      "2023-08-28 17:02:55,052 INFO sqlalchemy.engine.Engine [generated in 0.00095s] ('Albert Einstein',)\n"
     ]
    },
    {
     "data": {
      "text/plain": [
       "1"
      ]
     },
     "execution_count": 40,
     "metadata": {},
     "output_type": "execute_result"
    }
   ],
   "source": [
    "session.query(Winner).filter_by(name='Albert Einstein').delete()"
   ]
  },
  {
   "cell_type": "code",
   "execution_count": 41,
   "id": "85433700",
   "metadata": {},
   "outputs": [
    {
     "name": "stdout",
     "output_type": "stream",
     "text": [
      "2023-08-28 17:02:57,603 INFO sqlalchemy.engine.Engine SELECT winners.id AS winners_id, winners.category AS winners_category, winners.name AS winners_name, winners.nationality AS winners_nationality, winners.year AS winners_year, winners.gender AS winners_gender \n",
      "FROM winners\n",
      "2023-08-28 17:02:57,604 INFO sqlalchemy.engine.Engine [cached since 21.15s ago] ()\n"
     ]
    },
    {
     "data": {
      "text/plain": [
       "[<Winner(name='Paul Dirac', category='Physics', year='1933')>,\n",
       " <Winner(name='Marie Curie', category='Chemistry', year='1911')>]"
      ]
     },
     "execution_count": 41,
     "metadata": {},
     "output_type": "execute_result"
    }
   ],
   "source": [
    "list(session.query(Winner))"
   ]
  },
  {
   "cell_type": "code",
   "execution_count": 42,
   "id": "ce7cb24f",
   "metadata": {},
   "outputs": [
    {
     "name": "stdout",
     "output_type": "stream",
     "text": [
      "2023-08-28 17:02:59,387 INFO sqlalchemy.engine.Engine COMMIT\n"
     ]
    }
   ],
   "source": [
    "session.commit()"
   ]
  },
  {
   "cell_type": "code",
   "execution_count": 43,
   "id": "67acb315",
   "metadata": {},
   "outputs": [
    {
     "name": "stdout",
     "output_type": "stream",
     "text": [
      "2023-08-28 17:03:13,983 INFO sqlalchemy.engine.Engine BEGIN (implicit)\n",
      "2023-08-28 17:03:13,984 INFO sqlalchemy.engine.Engine \n",
      "DROP TABLE winners\n",
      "2023-08-28 17:03:13,985 INFO sqlalchemy.engine.Engine [no key 0.00059s] ()\n",
      "2023-08-28 17:03:14,012 INFO sqlalchemy.engine.Engine COMMIT\n"
     ]
    }
   ],
   "source": [
    "Winner.__table__.drop(engine)"
   ]
  },
  {
   "cell_type": "markdown",
   "id": "d53800a0-3570-43dd-b162-678cad41b621",
   "metadata": {},
   "source": [
    "### Easier SQL with Dataset"
   ]
  },
  {
   "cell_type": "code",
   "execution_count": 44,
   "id": "97dd0f9e",
   "metadata": {},
   "outputs": [],
   "source": [
    "import dataset\n",
    "db = dataset.connect('sqlite:///data/nobel_winners.db')"
   ]
  },
  {
   "cell_type": "code",
   "execution_count": 45,
   "id": "036411e1",
   "metadata": {},
   "outputs": [
    {
     "name": "stdout",
     "output_type": "stream",
     "text": [
      "2023-08-28 17:03:21,103 INFO sqlalchemy.engine.Engine BEGIN (implicit)\n",
      "2023-08-28 17:03:21,104 INFO sqlalchemy.engine.Engine PRAGMA main.table_info(\"winners\")\n",
      "2023-08-28 17:03:21,104 INFO sqlalchemy.engine.Engine [raw sql] ()\n",
      "2023-08-28 17:03:21,107 INFO sqlalchemy.engine.Engine PRAGMA temp.table_info(\"winners\")\n",
      "2023-08-28 17:03:21,108 INFO sqlalchemy.engine.Engine [raw sql] ()\n",
      "2023-08-28 17:03:21,109 INFO sqlalchemy.engine.Engine \n",
      "CREATE TABLE winners (\n",
      "\tid INTEGER NOT NULL, \n",
      "\tcategory VARCHAR, \n",
      "\tname VARCHAR, \n",
      "\tnationality VARCHAR, \n",
      "\tyear INTEGER, \n",
      "\tgender VARCHAR(6), \n",
      "\tPRIMARY KEY (id)\n",
      ")\n",
      "\n",
      "\n",
      "2023-08-28 17:03:21,110 INFO sqlalchemy.engine.Engine [no key 0.00057s] ()\n",
      "2023-08-28 17:03:21,119 INFO sqlalchemy.engine.Engine COMMIT\n",
      "2023-08-28 17:03:21,129 INFO sqlalchemy.engine.Engine BEGIN (implicit)\n",
      "2023-08-28 17:03:21,130 INFO sqlalchemy.engine.Engine DELETE FROM winners\n",
      "2023-08-28 17:03:21,131 INFO sqlalchemy.engine.Engine [generated in 0.00085s] ()\n",
      "2023-08-28 17:03:21,134 INFO sqlalchemy.engine.Engine INSERT INTO winners (category, name, nationality, year, gender) VALUES (?, ?, ?, ?, ?)\n",
      "2023-08-28 17:03:21,135 INFO sqlalchemy.engine.Engine [generated in 0.00091s] ('Physics', 'Albert Einstein', 'Swiss', 1921, 'male')\n",
      "2023-08-28 17:03:21,137 INFO sqlalchemy.engine.Engine INSERT INTO winners (category, name, nationality, year, gender) VALUES (?, ?, ?, ?, ?)\n",
      "2023-08-28 17:03:21,137 INFO sqlalchemy.engine.Engine [cached since 0.002624s ago] ('Physics', 'Paul Dirac', 'British', 1933, 'male')\n",
      "2023-08-28 17:03:21,138 INFO sqlalchemy.engine.Engine INSERT INTO winners (category, name, nationality, year, gender) VALUES (?, ?, ?, ?, ?)\n",
      "2023-08-28 17:03:21,139 INFO sqlalchemy.engine.Engine [cached since 0.004128s ago] ('Chemistry', 'Marie Curie', 'Polish', 1911, 'female')\n",
      "2023-08-28 17:03:21,140 INFO sqlalchemy.engine.Engine COMMIT\n"
     ]
    }
   ],
   "source": [
    "make_winners_database()"
   ]
  },
  {
   "cell_type": "code",
   "execution_count": 46,
   "id": "0aaa559b",
   "metadata": {},
   "outputs": [
    {
     "data": {
      "text/plain": [
       "[OrderedDict([('id', 1),\n",
       "              ('category', 'Physics'),\n",
       "              ('name', 'Albert Einstein'),\n",
       "              ('nationality', 'Swiss'),\n",
       "              ('year', 1921),\n",
       "              ('gender', 'male')]),\n",
       " OrderedDict([('id', 2),\n",
       "              ('category', 'Physics'),\n",
       "              ('name', 'Paul Dirac'),\n",
       "              ('nationality', 'British'),\n",
       "              ('year', 1933),\n",
       "              ('gender', 'male')]),\n",
       " OrderedDict([('id', 3),\n",
       "              ('category', 'Chemistry'),\n",
       "              ('name', 'Marie Curie'),\n",
       "              ('nationality', 'Polish'),\n",
       "              ('year', 1911),\n",
       "              ('gender', 'female')])]"
      ]
     },
     "execution_count": 46,
     "metadata": {},
     "output_type": "execute_result"
    }
   ],
   "source": [
    "wtable = db['winners']\n",
    "winners = wtable.find()\n",
    "winners = list(winners)\n",
    "winners"
   ]
  },
  {
   "cell_type": "code",
   "execution_count": 47,
   "id": "fc19b004",
   "metadata": {},
   "outputs": [
    {
     "data": {
      "text/plain": [
       "[]"
      ]
     },
     "execution_count": 47,
     "metadata": {},
     "output_type": "execute_result"
    }
   ],
   "source": [
    "wtable = db['winners']\n",
    "wtable.drop()\n",
    "wtable = db['winners']\n",
    "list(wtable.find())"
   ]
  },
  {
   "cell_type": "code",
   "execution_count": 48,
   "id": "b43cd2b2",
   "metadata": {},
   "outputs": [
    {
     "name": "stderr",
     "output_type": "stream",
     "text": [
      "c:\\Users\\Sébastien\\Documents\\data_science\\data_visualization\\dataviz-with-python-and-js-ed-2\\.env\\lib\\site-packages\\dataset\\table.py:313: RuntimeWarning: Changing the database schema inside a transaction in a multi-threaded environment is likely to lead to race conditions and synchronization issues.\n",
      "  warnings.warn(\n"
     ]
    }
   ],
   "source": [
    "with db as tx:\n",
    "    tx['winners'].insert_many(nobel_winners)"
   ]
  },
  {
   "cell_type": "code",
   "execution_count": 49,
   "id": "48bbb032",
   "metadata": {},
   "outputs": [
    {
     "data": {
      "text/plain": [
       "[OrderedDict([('id', 1),\n",
       "              ('category', 'Physics'),\n",
       "              ('name', 'Albert Einstein'),\n",
       "              ('nationality', 'Swiss'),\n",
       "              ('year', 1921),\n",
       "              ('gender', 'male')]),\n",
       " OrderedDict([('id', 2),\n",
       "              ('category', 'Physics'),\n",
       "              ('name', 'Paul Dirac'),\n",
       "              ('nationality', 'British'),\n",
       "              ('year', 1933),\n",
       "              ('gender', 'male')]),\n",
       " OrderedDict([('id', 3),\n",
       "              ('category', 'Chemistry'),\n",
       "              ('name', 'Marie Curie'),\n",
       "              ('nationality', 'Polish'),\n",
       "              ('year', 1911),\n",
       "              ('gender', 'female')])]"
      ]
     },
     "execution_count": 49,
     "metadata": {},
     "output_type": "execute_result"
    }
   ],
   "source": [
    "list(db['winners'].find())"
   ]
  },
  {
   "cell_type": "markdown",
   "id": "91bf0919-1be0-4487-b6a7-c08db5fde7e0",
   "metadata": {},
   "source": [
    "### MongoDB"
   ]
  },
  {
   "cell_type": "code",
   "execution_count": 50,
   "id": "86deedd0",
   "metadata": {},
   "outputs": [],
   "source": [
    "from pymongo import MongoClient\n",
    "\n",
    "client = MongoClient()\n",
    "db = client.nobel_prize\n",
    "coll = db.winners"
   ]
  },
  {
   "cell_type": "code",
   "execution_count": 51,
   "id": "d9d7b7c9",
   "metadata": {},
   "outputs": [],
   "source": [
    "DB_NOBEL_PRIZE = 'nobel_prize'\n",
    "COLL_WINNERS = 'winners'"
   ]
  },
  {
   "cell_type": "code",
   "execution_count": 52,
   "id": "432f3ce5",
   "metadata": {},
   "outputs": [],
   "source": [
    "def get_mongo_database(db_name, host='localhost',\\\n",
    "    port=27017, username=None, password=None):\n",
    "    \"\"\" Get named database from MongoDB with/out authentication \"\"\"\n",
    "    # make Mongo connection with/out authentication\n",
    "    if username and password:\n",
    "        mongo_uri = 'mongodb://%s:%s@%s/%s'%\\\n",
    "        (username, password, host, db_name)\n",
    "        conn = MongoClient(mongo_uri)\n",
    "    else:\n",
    "        conn = MongoClient(host, port)\n",
    "    return conn[db_name]"
   ]
  },
  {
   "cell_type": "code",
   "execution_count": 53,
   "id": "0195131a",
   "metadata": {},
   "outputs": [],
   "source": [
    "db = get_mongo_database(DB_NOBEL_PRIZE)\n",
    "coll = db[COLL_WINNERS]"
   ]
  },
  {
   "cell_type": "markdown",
   "id": "ef98ba5a",
   "metadata": {},
   "source": [
    "<div class=\"alert alert-block alert-warning\">\n",
    "Make sure to have MongoDB installed ;-)\n",
    "</div>"
   ]
  },
  {
   "cell_type": "code",
   "execution_count": 60,
   "id": "ca479c75",
   "metadata": {},
   "outputs": [],
   "source": [
    "# delete existing winners from the collection\n",
    "# !NOTE! - if you get a PyMongo error like this:\n",
    "# ConfigurationError: Server at 127.0.0.1:27017 \n",
    "# reports wire version 0, but this version of PyMongo requires at least 2 (MongoDB 2.6)\n",
    "# try downgrading your PyMongo module with 'pip install pymongo==3.4.0'\n",
    "coll.drop()"
   ]
  },
  {
   "cell_type": "code",
   "execution_count": 61,
   "id": "e360b9a0",
   "metadata": {},
   "outputs": [
    {
     "data": {
      "text/plain": [
       "[{'_id': ObjectId('64ecb7f5838d4444bdd763c0'),\n",
       "  'category': 'Physics',\n",
       "  'name': 'Albert Einstein',\n",
       "  'nationality': 'Swiss',\n",
       "  'year': 1921,\n",
       "  'gender': 'male'},\n",
       " {'_id': ObjectId('64ecb7f5838d4444bdd763c1'),\n",
       "  'category': 'Physics',\n",
       "  'name': 'Paul Dirac',\n",
       "  'nationality': 'British',\n",
       "  'year': 1933,\n",
       "  'gender': 'male'},\n",
       " {'_id': ObjectId('64ecb7f5838d4444bdd763c2'),\n",
       "  'category': 'Chemistry',\n",
       "  'name': 'Marie Curie',\n",
       "  'nationality': 'Polish',\n",
       "  'year': 1911,\n",
       "  'gender': 'female'}]"
      ]
     },
     "execution_count": 61,
     "metadata": {},
     "output_type": "execute_result"
    }
   ],
   "source": [
    "coll.insert_many(nobel_winners)\n",
    "list(coll.find())"
   ]
  },
  {
   "cell_type": "code",
   "execution_count": 62,
   "id": "720673ac",
   "metadata": {},
   "outputs": [
    {
     "data": {
      "text/plain": [
       "[{'_id': ObjectId('64ecb7f5838d4444bdd763c2'),\n",
       "  'category': 'Chemistry',\n",
       "  'name': 'Marie Curie',\n",
       "  'nationality': 'Polish',\n",
       "  'year': 1911,\n",
       "  'gender': 'female'}]"
      ]
     },
     "execution_count": 62,
     "metadata": {},
     "output_type": "execute_result"
    }
   ],
   "source": [
    "res = coll.find({'category':'Chemistry'})\n",
    "list(res)"
   ]
  },
  {
   "cell_type": "code",
   "execution_count": 63,
   "id": "60716b22",
   "metadata": {},
   "outputs": [
    {
     "data": {
      "text/plain": [
       "[{'_id': ObjectId('64ecb7f5838d4444bdd763c1'),\n",
       "  'category': 'Physics',\n",
       "  'name': 'Paul Dirac',\n",
       "  'nationality': 'British',\n",
       "  'year': 1933,\n",
       "  'gender': 'male'}]"
      ]
     },
     "execution_count": 63,
     "metadata": {},
     "output_type": "execute_result"
    }
   ],
   "source": [
    "res = coll.find({'year': {'$gt': 1930}})\n",
    "list(res)"
   ]
  },
  {
   "cell_type": "code",
   "execution_count": 64,
   "id": "63b7dcf5",
   "metadata": {},
   "outputs": [
    {
     "data": {
      "text/plain": [
       "[{'_id': ObjectId('64ecb7f5838d4444bdd763c1'),\n",
       "  'category': 'Physics',\n",
       "  'name': 'Paul Dirac',\n",
       "  'nationality': 'British',\n",
       "  'year': 1933,\n",
       "  'gender': 'male'}]"
      ]
     },
     "execution_count": 64,
     "metadata": {},
     "output_type": "execute_result"
    }
   ],
   "source": [
    "res = coll.find({'$or':[{'year': {'$gt': 1930}},\\\n",
    "{'sex':'female'}]})\n",
    "list(res)"
   ]
  },
  {
   "cell_type": "code",
   "execution_count": 64,
   "id": "805af0b3",
   "metadata": {},
   "outputs": [],
   "source": [
    "def mongo_coll_to_dicts(dbname='test', collname='test', query={}, del_id=True, **kw):\n",
    "    db = get_mongo_database(dbname, **kw)\n",
    "    res = list(db[collname].find(query))\n",
    "    if del_id:\n",
    "        for r in res:\n",
    "            r.pop('_id')\n",
    "    return res"
   ]
  },
  {
   "cell_type": "code",
   "execution_count": 65,
   "id": "d90f391d",
   "metadata": {
    "scrolled": true
   },
   "outputs": [
    {
     "data": {
      "text/plain": [
       "[{'category': 'Physics',\n",
       "  'name': 'Albert Einstein',\n",
       "  'nationality': 'Swiss',\n",
       "  'year': 1921,\n",
       "  'gender': 'male'},\n",
       " {'category': 'Physics',\n",
       "  'name': 'Paul Dirac',\n",
       "  'nationality': 'British',\n",
       "  'year': 1933,\n",
       "  'gender': 'male'},\n",
       " {'category': 'Chemistry',\n",
       "  'name': 'Marie Curie',\n",
       "  'nationality': 'Polish',\n",
       "  'year': 1911,\n",
       "  'gender': 'female'}]"
      ]
     },
     "execution_count": 65,
     "metadata": {},
     "output_type": "execute_result"
    }
   ],
   "source": [
    "mongo_coll_to_dicts(DB_NOBEL_PRIZE, COLL_WINNERS)"
   ]
  },
  {
   "cell_type": "markdown",
   "id": "4fdf2c84",
   "metadata": {},
   "source": [
    "## Dealing with Dates, Times, and Complex Data"
   ]
  },
  {
   "cell_type": "code",
   "execution_count": 66,
   "id": "908c0d94",
   "metadata": {},
   "outputs": [
    {
     "data": {
      "text/plain": [
       "'2022-08-15T19:19:52.024181'"
      ]
     },
     "execution_count": 66,
     "metadata": {},
     "output_type": "execute_result"
    }
   ],
   "source": [
    "from datetime import datetime\n",
    "d = datetime.now()\n",
    "d.isoformat()"
   ]
  },
  {
   "cell_type": "code",
   "execution_count": 67,
   "id": "cb67920f",
   "metadata": {},
   "outputs": [
    {
     "data": {
      "text/plain": [
       "datetime.datetime(2021, 11, 16, 22, 55, 48, 738000, tzinfo=tzutc())"
      ]
     },
     "execution_count": 67,
     "metadata": {},
     "output_type": "execute_result"
    }
   ],
   "source": [
    "from dateutil import parser\n",
    "d = parser.parse('2021-11-16T22:55:48.738Z')\n",
    "d"
   ]
  }
 ],
 "metadata": {
  "kernelspec": {
   "display_name": "Python 3 (ipykernel)",
   "language": "python",
   "name": "python3"
  },
  "language_info": {
   "codemirror_mode": {
    "name": "ipython",
    "version": 3
   },
   "file_extension": ".py",
   "mimetype": "text/x-python",
   "name": "python",
   "nbconvert_exporter": "python",
   "pygments_lexer": "ipython3",
   "version": "3.10.9"
  }
 },
 "nbformat": 4,
 "nbformat_minor": 5
}
